{
 "cells": [
  {
   "cell_type": "code",
   "execution_count": 69,
   "id": "a573d0c5",
   "metadata": {},
   "outputs": [],
   "source": [
    "#!/usr/bin/python\n",
    "from seqdata import getset\n",
    "from sklearn.model_selection import train_test_split\n",
    "import random\n",
    "import matplotlib.pylab as plt\n",
    "random.seed(42)\n",
    "\n",
    "def prep_data(AA):\n",
    "    X,y=getset(7)\n",
    "    Xa=[]\n",
    "    Xb=[]\n",
    "    for xx,yy in zip(X,y):\n",
    "       if yy==AA:\n",
    "          Xa.append(xx)\n",
    "       else:\n",
    "          Xb.append(xx)\n",
    "    n=len(Xa)\n",
    "    Xbr=Xb#random.sample(Xb,n)\n",
    "    X=[*Xa,*Xbr]\n",
    "    y=[*([1]*len(Xa)),*([0]*len(Xbr))]\n",
    "    X_train,X_test,y_train,y_test = train_test_split(X,y,random_state=1234567, shuffle=True)\n",
    "#    print(len(Xa),len(Xb),len(X_train),len(X_test))\n",
    "    return X_train,X_test,y_train,y_test\n"
   ]
  },
  {
   "cell_type": "code",
   "execution_count": null,
   "id": "44069e33",
   "metadata": {},
   "outputs": [],
   "source": [
    "def xsample(x0,size):\n",
    "    res=[]\n",
    "    while size-len(res)>=len(x0):\n",
    "        res.extend(x0)\n",
    "    res.extend(random.sample(x0,size-len(res)))\n",
    "    return res\n",
    "\n",
    "def prepare_data(cats, cat_size=1000, batch_size=10):\n",
    "    X,y=getset(7)\n",
    "    X_train,X_test,y_train,y_test = train_test_split(X,y,random_state=1234567, shuffle=True)\n",
    "    \n",
    "    u,c=numpy.unique(y_train, return_counts=True)\n",
    "    print(f\"Counts for minimal group: {numpy.min(c)}\")\n",
    "    print(f\"Counts for maximal group: {numpy.max(c)}\")\n",
    "    \n",
    "    joined=[(x,lab) for x,lab in zip(X_train,y_train) if lab in cats]\n",
    "    X_train=[x for x,lab in joined]\n",
    "    y_train=[lab for x,lab in joined]\n",
    "    \n",
    "    \n",
    "    joined=[(x,lab) for x,lab in zip(X_test,y_test) if lab in cats]\n",
    "    X_test=[x for x,lab in joined]\n",
    "    y_test=[lab for x,lab in joined]\n",
    "    \n",
    "    \n",
    "    test=[[numpy.array(x,dtype=numpy.float32),y] for x,y in zip(X_test,numpy.array(y_test,dtype=numpy.int64))]    \n",
    "    if cat_size>0:\n",
    "        train=[]    \n",
    "        #resample X_train and y_train\n",
    "        random.seed(None) #1234567)\n",
    "        new_X,new_y=[],[]\n",
    "        for cat in cats:\n",
    "            cat_xy=[(x,lab) for x,lab in zip(X_train,y_train) if lab==cat]\n",
    "            qs=xsample(cat_xy, cat_size)\n",
    "            #qs=[random.choice(cat_xy) for ii in range(cat_size)]\n",
    "            qs=[[numpy.array(x,dtype=numpy.float32),numpy.array(lab,dtype=numpy.int64)] for x,lab in qs]\n",
    "            train.extend(qs)\n",
    "    else:\n",
    "        train=[[numpy.array(x, dtype=numpy.float32),y] for x,y in zip(X_train,numpy.array(y_train,dtype=numpy.int64))]\n",
    "   \n",
    "    print(f'train data: {len(train)}, test data: {len(test)}, categories: {len(cats)}' )\n",
    "    train_dl = DataLoader(train, batch_size=batch_size, shuffle=True)\n",
    "    test_dl = DataLoader(test, batch_size=1000000, shuffle=False)\n",
    "    return train_dl, test_dl"
   ]
  },
  {
   "cell_type": "code",
   "execution_count": 70,
   "id": "d0cd7b02",
   "metadata": {},
   "outputs": [
    {
     "name": "stdout",
     "output_type": "stream",
     "text": [
      "0 0.6135811477872688 0.6123258389348167\n",
      "1 0.6217624586856677 0.6154935743902753\n",
      "2 0.609675065459072 0.6065054469597466\n",
      "3 0.6251105292526935 0.6228076952793016\n",
      "4 0.6008327252435935 0.5980839063586495\n",
      "5 0.642743700905696 0.6429730356177085\n",
      "6 0.57748207923767 0.5745447989904453\n",
      "7 0.6326994892046186 0.6288598727755028\n",
      "8 0.5858436708589089 0.582116459347395\n",
      "9 0.5926342447525432 0.5923407762239563\n",
      "10 0.5874919517534446 0.5846145921862526\n",
      "11 0.6100871356827059 0.6082309613948338\n",
      "12 0.6697858093316736 0.6681603955806227\n",
      "13 0.5880757179035927 0.5836616961549358\n",
      "14 0.5737820320212903 0.5710422622266862\n",
      "15 0.5925483967892862 0.5933966880424425\n",
      "16 0.5475297248572778 0.5440778799351\n",
      "17 0.6496802163368675 0.6526565196116305\n",
      "18 0.6037343864016826 0.6039042983337196\n",
      "19 0.5926599991415203 0.5941435524994205\n"
     ]
    }
   ],
   "source": [
    "from sklearn.linear_model import LogisticRegression\n",
    "models=[]\n",
    "for aa in range(20):\n",
    "    X_train,X_test,y_train,y_test=prep_data(aa)\n",
    "    model=LogisticRegression(class_weight=\"balanced\")\n",
    "    model.fit(X_train, y_train)\n",
    "    print(aa,model.score(X_train, y_train),model.score(X_test, y_test))\n",
    "    models.append(model)\n"
   ]
  },
  {
   "cell_type": "code",
   "execution_count": 71,
   "id": "b0463837",
   "metadata": {},
   "outputs": [
    {
     "name": "stdout",
     "output_type": "stream",
     "text": [
      "0.95866420569172\n",
      "0.9590254706533776\n"
     ]
    }
   ],
   "source": [
    "from sklearn.linear_model import LogisticRegression\n",
    "model=LogisticRegression()\n",
    "model.fit(X_train, y_train)\n",
    "print(model.score(X_train, y_train))\n",
    "print(model.score(X_test, y_test))\n",
    "#print (model.coef_)"
   ]
  },
  {
   "cell_type": "code",
   "execution_count": 61,
   "id": "325d891f",
   "metadata": {},
   "outputs": [
    {
     "name": "stdout",
     "output_type": "stream",
     "text": [
      "0.5863918973124749\n",
      "0.5818291215403129\n"
     ]
    }
   ],
   "source": [
    "from sklearn.svm import LinearSVC, SVC\n",
    "model=LinearSVC()\n",
    "#model=SVC(kernel='rbf')\n",
    "model.fit(X_train, y_train)\n",
    "print(model.score(X_train, y_train))\n",
    "print(model.score(X_test, y_test))"
   ]
  },
  {
   "cell_type": "code",
   "execution_count": 53,
   "id": "f3123ea2",
   "metadata": {},
   "outputs": [
    {
     "name": "stdout",
     "output_type": "stream",
     "text": [
      "1.0\n",
      "0.5373087730252888\n"
     ]
    }
   ],
   "source": [
    "from sklearn.tree import DecisionTreeClassifier\n",
    "model=DecisionTreeClassifier()\n",
    "model.fit(X_train, y_train)\n",
    "print(model.score(X_train, y_train))\n",
    "print(model.score(X_test, y_test))"
   ]
  },
  {
   "cell_type": "code",
   "execution_count": 58,
   "id": "1c488ffa",
   "metadata": {},
   "outputs": [
    {
     "name": "stdout",
     "output_type": "stream",
     "text": [
      "0.7159954209595171\n",
      "0.5800811738994692\n"
     ]
    }
   ],
   "source": [
    "from sklearn.ensemble import RandomForestClassifier\n",
    "model=RandomForestClassifier(n_estimators=100,max_depth=10,)\n",
    "model.fit(X_train, y_train)\n",
    "print(model.score(X_train, y_train))\n",
    "print(model.score(X_test, y_test))"
   ]
  },
  {
   "cell_type": "code",
   "execution_count": null,
   "id": "82fb98ef",
   "metadata": {},
   "outputs": [],
   "source": []
  }
 ],
 "metadata": {
  "kernelspec": {
   "display_name": "Python 3 (ipykernel)",
   "language": "python",
   "name": "python3"
  },
  "language_info": {
   "codemirror_mode": {
    "name": "ipython",
    "version": 3
   },
   "file_extension": ".py",
   "mimetype": "text/x-python",
   "name": "python",
   "nbconvert_exporter": "python",
   "pygments_lexer": "ipython3",
   "version": "3.10.8"
  }
 },
 "nbformat": 4,
 "nbformat_minor": 5
}
