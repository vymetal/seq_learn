{
 "cells": [
  {
   "cell_type": "code",
   "execution_count": 1,
   "id": "eea166ec",
   "metadata": {},
   "outputs": [],
   "source": [
    "from seqdata import getset\n",
    "import sys\n",
    "from sklearn.model_selection import train_test_split\n",
    "import matplotlib.pylab as plt\n",
    "import numpy\n",
    "import random"
   ]
  },
  {
   "cell_type": "code",
   "execution_count": 2,
   "id": "4ae1bb48",
   "metadata": {},
   "outputs": [],
   "source": [
    "X,y=getset(7)\n",
    "\n",
    "#X=numpy.array([i for i,j in zip(X,y) if j in (0,12)])\n",
    "#y=numpy.array([{0:0,12:1}[i] for i in y if i in (0,12)])\n",
    "X_train,X_test,y_train,y_test = train_test_split(X,y,random_state=1234567, shuffle=True)\n",
    "\n",
    "#resample X_train and y_train\n",
    "n=1000\n",
    "random.seed(1234567)\n",
    "new_X,new_y=[],[]\n",
    "for cat in range(20):\n",
    "    cat_xy=[(x,lab) for x,lab in zip(X_train,y_train) if lab==cat]\n",
    "    qs=[random.choice(cat_xy) for ii in range(n)]\n",
    "    xs=[q[0] for q in qs]\n",
    "    ys=[q[1] for q in qs]\n",
    "    new_X.extend(xs)\n",
    "    new_y.extend(ys)\n",
    "X_train=numpy.array(new_X)\n",
    "y_train=numpy.array(new_y)"
   ]
  },
  {
   "cell_type": "code",
   "execution_count": 3,
   "id": "7864fb6b",
   "metadata": {},
   "outputs": [
    {
     "name": "stdout",
     "output_type": "stream",
     "text": [
      "(20000, 161) (38829, 161)\n",
      "[[0 0 0 0 0 0 1 0 0 0 0 0 0 0 0 0 0 0 0 0 1 0 0]\n",
      " [0 0 1 0 0 0 0 0 0 0 0 0 0 0 0 0 0 0 0 0 1 0 0]\n",
      " [0 0 0 0 0 0 0 0 0 0 0 1 0 0 0 0 0 0 0 0 1 0 0]\n",
      " [0 0 0 0 0 0 0 0 0 0 0 0 0 0 0 0 0 0 0 0 0 0 1]\n",
      " [0 0 0 0 0 0 0 0 0 0 0 0 0 0 0 0 0 1 0 0 0 0 1]\n",
      " [0 0 0 0 1 0 0 0 0 0 0 0 0 0 0 0 0 0 0 0 0 0 1]\n",
      " [0 0 0 0 0 0 0 0 0 0 0 1 0 0 0 0 0 0 0 0 1 0 0]]\n",
      "12880128\n"
     ]
    }
   ],
   "source": [
    "print(X_train.shape,X_test.shape)\n",
    "print(X_train[0].reshape(7,23))\n",
    "print(sys.getsizeof(X_train))\n"
   ]
  },
  {
   "cell_type": "code",
   "execution_count": 349,
   "id": "da3e4b5e",
   "metadata": {},
   "outputs": [],
   "source": [
    "#from sklearn.neighbors import KNeighborsClassifier\n",
    "#model=KNeighborsClassifier(n_neighbors=100, metric='minkowski')\n",
    "#model.fit(X_train, y_train)\n",
    "#print (model.score(X_test[:1000], y_test[:1000]))"
   ]
  },
  {
   "cell_type": "code",
   "execution_count": 350,
   "id": "1314d440",
   "metadata": {},
   "outputs": [
    {
     "name": "stdout",
     "output_type": "stream",
     "text": [
      "0.08331401787323907\n"
     ]
    }
   ],
   "source": [
    "from sklearn.tree import DecisionTreeClassifier\n",
    "model=DecisionTreeClassifier(min_samples_split=2, max_depth=100)\n",
    "model.fit(X_train, y_train)\n",
    "print (model.score(X_test, y_test))"
   ]
  },
  {
   "cell_type": "code",
   "execution_count": 26,
   "id": "4e3581f9",
   "metadata": {},
   "outputs": [
    {
     "name": "stdout",
     "output_type": "stream",
     "text": [
      "0.126786680058719\n"
     ]
    }
   ],
   "source": [
    "from sklearn.ensemble import RandomForestClassifier\n",
    "model=RandomForestClassifier(n_estimators=1000, max_depth=20,class_weight='balanced')\n",
    "model.fit(X_train, y_train)\n",
    "print (model.score(X_test, y_test))"
   ]
  },
  {
   "cell_type": "code",
   "execution_count": 27,
   "id": "5ee4bb3f",
   "metadata": {},
   "outputs": [
    {
     "data": {
      "image/png": "[encoded data removed]",
      "text/plain": [
       "<Figure size 640x480 with 1 Axes>"
      ]
     },
     "metadata": {},
     "output_type": "display_data"
    }
   ],
   "source": [
    "y_pred=model.predict(X_test)\n",
    "plt.hist(y_pred, bins=20,alpha=0.2)\n",
    "plt.hist(y_test, bins=20,alpha=0.2)\n",
    "plt.show()"
   ]
  },
  {
   "cell_type": "code",
   "execution_count": 353,
   "id": "c861b9a1",
   "metadata": {},
   "outputs": [],
   "source": [
    "from torch import Tensor\n",
    "from torch.utils.data import Dataset\n",
    "from torch.utils.data import DataLoader\n",
    "from torch.utils.data import random_split\n",
    "from torch.nn import Linear\n",
    "from torch.nn import ReLU, LeakyReLU,ELU\n",
    "from torch.nn import Softmax\n",
    "from torch.nn import Module\n",
    "from torch.optim import SGD,Adam\n",
    "from torch.nn import CrossEntropyLoss\n",
    "from torch.nn.init import kaiming_uniform_\n",
    "from torch.nn.init import xavier_uniform_, uniform_, ones_\n",
    "from numpy import argmax, vstack\n",
    "from sklearn.metrics import accuracy_score"
   ]
  },
  {
   "cell_type": "code",
   "execution_count": 354,
   "id": "f9c5c9f5",
   "metadata": {},
   "outputs": [
    {
     "name": "stdout",
     "output_type": "stream",
     "text": [
      "[array([0., 0., 0., 0., 0., 0., 1., 0., 0., 0., 0., 0., 0., 0., 0., 0., 0.,\n",
      "       0., 0., 0., 1., 0., 0., 0., 0., 1., 0., 0., 0., 0., 0., 0., 0., 0.,\n",
      "       0., 0., 0., 0., 0., 0., 0., 0., 0., 1., 0., 0., 0., 0., 0., 0., 0.,\n",
      "       0., 0., 0., 0., 0., 0., 1., 0., 0., 0., 0., 0., 0., 0., 0., 1., 0.,\n",
      "       0., 0., 0., 0., 0., 0., 0., 0., 0., 0., 0., 0., 0., 0., 0., 0., 0.,\n",
      "       0., 0., 0., 0., 0., 0., 1., 0., 0., 0., 0., 0., 0., 0., 0., 0., 0.,\n",
      "       0., 0., 0., 0., 0., 0., 0., 1., 0., 0., 0., 0., 1., 0., 0., 0., 0.,\n",
      "       1., 0., 0., 0., 0., 0., 0., 0., 0., 0., 0., 0., 0., 0., 0., 0., 0.,\n",
      "       0., 1., 0., 0., 0., 0., 0., 0., 0., 0., 0., 0., 0., 1., 0., 0., 0.,\n",
      "       0., 0., 0., 0., 0., 1., 0., 0.], dtype=float32), 0]\n",
      "<torch.utils.data.dataloader.DataLoader object at 0x7f52f45a8940>\n",
      "<torch.utils.data.dataloader.DataLoader object at 0x7f534df8b280>\n"
     ]
    }
   ],
   "source": [
    "train=[[numpy.array(x, dtype=numpy.float32),y] for x,y in zip(X_train,numpy.array(y_train,dtype=numpy.int64))]\n",
    "print(train[0])\n",
    "test=[[numpy.array(x,dtype=numpy.float32),y] for x,y in zip(X_test,numpy.array(y_test,dtype=numpy.int64))]\n",
    "train_dl = DataLoader(train, batch_size=10, shuffle=True)\n",
    "test_dl = DataLoader(test, batch_size=1000, shuffle=False)\n",
    "print(train_dl)\n",
    "print(test_dl)"
   ]
  },
  {
   "cell_type": "code",
   "execution_count": 355,
   "id": "b2166304",
   "metadata": {},
   "outputs": [],
   "source": [
    "class MLP(Module):\n",
    "    # define model elements\n",
    "    def __init__(self, n_inputs):\n",
    "        super(MLP, self).__init__()\n",
    "        N=161 #2*161\n",
    "        \n",
    "        self.hidden1 = Linear(n_inputs, N)\n",
    "        kaiming_uniform_(self.hidden1.weight, nonlinearity='relu')\n",
    "        #uniform_(self.hidden1.weight)\n",
    "        #ones_(self.hidden1.weight)\n",
    "        self.act1 = LeakyReLU()\n",
    "\n",
    "        #self.hidden2 = Linear(N, N)\n",
    "        #kaiming_uniform_(self.hidden2.weight, nonlinearity='relu')\n",
    "        #uniform_(self.hidden2.weight)\n",
    "        #self.act2 = LeakyReLU()\n",
    " \n",
    "        #self.hidden3 = Linear(N, N)\n",
    "        #kaiming_uniform_(self.hidden3.weight, nonlinearity='relu')\n",
    "        #uniform_(self.hidden3.weight)\n",
    "        #self.act3 = LeakyReLU()\n",
    "        \n",
    "        #self.hidden4 = Linear(N, N)\n",
    "        #kaiming_uniform_(self.hidden4.weight)\n",
    "        #self.act4 = ReLU()\n",
    " \n",
    "\n",
    "        self.hidden_last = Linear(N, 20)   \n",
    "        #kaiming_uniform_(self.hidden_last.weight)        \n",
    "        #xavier_uniform_(self.hidden_last.weight)\n",
    "        #uniform_(self.hidden_last.weight)\n",
    "        ones_(self.hidden_last.weight)\n",
    "        self.act_last = Softmax(dim=1)\n",
    "    # forward propagate input\n",
    "    def forward(self, X):\n",
    "        # input to first hidden layer\n",
    "        X = self.hidden1(X)\n",
    "        X = self.act1(X)\n",
    "        #second \n",
    "        #X = self.hidden2(X)\n",
    "        #X = self.act2(X)\n",
    "        #third\n",
    "        #X = self.hidden3(X)\n",
    "        #X = self.act3(X)\n",
    "        #fourth\n",
    "        #X = self.hidden4(X)\n",
    "        #X = self.act4(X)        \n",
    "        # output layer\n",
    "        X = self.hidden_last(X)\n",
    "        X = self.act_last(X)\n",
    "        return X"
   ]
  },
  {
   "cell_type": "code",
   "execution_count": 356,
   "id": "f23fc2cf",
   "metadata": {},
   "outputs": [],
   "source": [
    "\n",
    "#whs=[len(y_train)/list(y_train).count(i) for i in range(numpy.max(y_train)+1)]\n",
    "#whs=numpy.array(whs)/sum(whs)\n",
    "#whs=Tensor(whs)\n",
    "#print(whs)\n",
    "\n",
    "def train_model(train_dl, model):\n",
    "    # define the optimization\n",
    "    criterion = CrossEntropyLoss() #weight=whs)\n",
    "    #optimizer = Adam(model.parameters(),lr=0.01)\n",
    "    optimizer = SGD(model.parameters(), lr=0.01, momentum=0.9)\n",
    "    # enumerate epochs\n",
    "    for epoch in range(100):\n",
    "        # enumerate mini batches\n",
    "        losses=[]\n",
    "        for i, (inputs, targets) in enumerate(train_dl):\n",
    "            # clear the gradients\n",
    "            optimizer.zero_grad()\n",
    "            # compute the model output\n",
    "            yhat = model(inputs)\n",
    "            # calculate loss\n",
    "            loss = criterion(yhat, targets)\n",
    "            # credit assignment\n",
    "            loss.backward()\n",
    "            # update model weights\n",
    "            optimizer.step()\n",
    "            losses.append(loss.detach().numpy())\n",
    "        print(epoch, numpy.mean(losses))\n",
    " "
   ]
  },
  {
   "cell_type": "code",
   "execution_count": 357,
   "id": "43341d62",
   "metadata": {},
   "outputs": [],
   "source": [
    "# evaluate the model\n",
    "def evaluate_model(test_dl, model):\n",
    "    predictions, actuals = list(), list()\n",
    "    for i, (inputs, targets) in enumerate(test_dl):\n",
    "        # evaluate the model on the test set\n",
    "        yhat = model(inputs)\n",
    "        # retrieve numpy array\n",
    "        yhat = yhat.detach().numpy()\n",
    "        actual = targets.numpy()\n",
    "        # convert to class labels\n",
    "        yhat = argmax(yhat, axis=1)\n",
    "        # reshape for stacking\n",
    "        actual = actual.reshape((len(actual), 1))\n",
    "        yhat = yhat.reshape((len(yhat), 1))\n",
    "        # store\n",
    "        predictions.append(yhat)\n",
    "        actuals.append(actual)\n",
    "    predictions, actuals = vstack(predictions), vstack(actuals)\n",
    "    # calculate accuracy\n",
    "    acc = accuracy_score(actuals, predictions)\n",
    "    plt.hist(predictions, bins=20,alpha=0.2)\n",
    "    plt.hist(actuals, bins=20,alpha=0.2)\n",
    "    plt.show()\n",
    "    return acc"
   ]
  },
  {
   "cell_type": "code",
   "execution_count": 358,
   "id": "3ab9bc3f",
   "metadata": {},
   "outputs": [],
   "source": [
    "def predict(row, model):\n",
    "    # convert row to data\n",
    "    row = Tensor([row])\n",
    "    # make prediction\n",
    "    yhat = model(row)\n",
    "    # retrieve numpy array\n",
    "    yhat = yhat.detach().numpy()\n",
    "    return yhat"
   ]
  },
  {
   "cell_type": "code",
   "execution_count": 359,
   "id": "3a5f8c95",
   "metadata": {
    "scrolled": false
   },
   "outputs": [
    {
     "name": "stdout",
     "output_type": "stream",
     "text": [
      "0 2.9948528\n",
      "1 2.9903197\n",
      "2 2.981415\n",
      "3 2.9732363\n",
      "4 2.9690337\n",
      "5 2.9654834\n",
      "6 2.963091\n",
      "7 2.9603157\n",
      "8 2.958041\n",
      "9 2.9552574\n",
      "10 2.9531293\n",
      "11 2.9509063\n",
      "12 2.9483383\n",
      "13 2.9466417\n",
      "14 2.944167\n",
      "15 2.942127\n",
      "16 2.939829\n",
      "17 2.9376342\n",
      "18 2.9347947\n",
      "19 2.9332619\n",
      "20 2.9308283\n",
      "21 2.9282339\n",
      "22 2.9258144\n",
      "23 2.9235616\n",
      "24 2.9208982\n",
      "25 2.9182081\n",
      "26 2.9157999\n",
      "27 2.9131095\n",
      "28 2.9101596\n",
      "29 2.9076216\n",
      "30 2.9052172\n",
      "31 2.9022253\n",
      "32 2.9000149\n",
      "33 2.8971872\n",
      "34 2.8946068\n",
      "35 2.8921652\n",
      "36 2.889541\n",
      "37 2.886697\n",
      "38 2.8846703\n",
      "39 2.8822045\n",
      "40 2.8802662\n",
      "41 2.8776472\n",
      "42 2.875852\n",
      "43 2.8733413\n",
      "44 2.871187\n",
      "45 2.8689995\n",
      "46 2.8670518\n",
      "47 2.8648002\n",
      "48 2.862649\n",
      "49 2.8603687\n",
      "50 2.8582988\n",
      "51 2.8561573\n",
      "52 2.854254\n",
      "53 2.852428\n",
      "54 2.8502388\n",
      "55 2.8486116\n",
      "56 2.846852\n",
      "57 2.8448086\n",
      "58 2.8434176\n",
      "59 2.8416414\n",
      "60 2.8397548\n",
      "61 2.8383644\n",
      "62 2.8369477\n",
      "63 2.8353193\n",
      "64 2.8336804\n",
      "65 2.8324952\n",
      "66 2.8308702\n",
      "67 2.8294766\n",
      "68 2.8279138\n",
      "69 2.8267617\n",
      "70 2.8252695\n",
      "71 2.8241885\n",
      "72 2.8227491\n",
      "73 2.8214483\n",
      "74 2.8203192\n",
      "75 2.8190908\n",
      "76 2.817778\n",
      "77 2.8164804\n",
      "78 2.8155634\n",
      "79 2.814393\n",
      "80 2.813356\n",
      "81 2.812466\n",
      "82 2.8113678\n",
      "83 2.8105617\n",
      "84 2.809566\n",
      "85 2.8087041\n",
      "86 2.8078978\n",
      "87 2.8071122\n",
      "88 2.806187\n",
      "89 2.8055289\n",
      "90 2.804763\n",
      "91 2.8040462\n",
      "92 2.803179\n",
      "93 2.802555\n",
      "94 2.801779\n",
      "95 2.80104\n",
      "96 2.8003545\n",
      "97 2.7996578\n",
      "98 2.7990131\n",
      "99 2.7983394\n"
     ]
    },
    {
     "data": {
      "image/png": "[encoded data removed]",
      "text/plain": [
       "<Figure size 640x480 with 1 Axes>"
      ]
     },
     "metadata": {},
     "output_type": "display_data"
    },
    {
     "name": "stdout",
     "output_type": "stream",
     "text": [
      "Accuracy: 0.111\n"
     ]
    }
   ],
   "source": [
    "model=MLP(161)\n",
    "train_model(train_dl, model)\n",
    "acc = evaluate_model(test_dl, model)\n",
    "print('Accuracy: %.3f' % acc)"
   ]
  },
  {
   "cell_type": "code",
   "execution_count": 329,
   "id": "e85aecfb",
   "metadata": {},
   "outputs": [
    {
     "name": "stdout",
     "output_type": "stream",
     "text": [
      "25921\n",
      "161\n",
      "3220\n",
      "20\n"
     ]
    },
    {
     "data": {
      "image/png": "[encoded data removed]",
      "text/plain": [
       "<Figure size 640x480 with 1 Axes>"
      ]
     },
     "metadata": {},
     "output_type": "display_data"
    },
    {
     "data": {
      "image/png": "[encoded data removed]",
      "text/plain": [
       "<Figure size 640x480 with 1 Axes>"
      ]
     },
     "metadata": {},
     "output_type": "display_data"
    },
    {
     "data": {
      "image/png": "[encoded data removed]",
      "text/plain": [
       "<Figure size 640x480 with 1 Axes>"
      ]
     },
     "metadata": {},
     "output_type": "display_data"
    },
    {
     "data": {
      "image/png": "[encoded data removed]",
      "text/plain": [
       "<Figure size 640x480 with 1 Axes>"
      ]
     },
     "metadata": {},
     "output_type": "display_data"
    }
   ],
   "source": [
    "#print(numpy.mean(X_train,axis=0))\n",
    "#print(list(model.parameters()))\n",
    "for p in model.parameters():\n",
    "    q=p.detach().numpy().flatten()\n",
    "    print(q.size)\n",
    "    plt.figure()\n",
    "    plt.hist(q, bins=100)"
   ]
  },
  {
   "cell_type": "code",
   "execution_count": 343,
   "id": "f9e166ff",
   "metadata": {},
   "outputs": [
    {
     "name": "stdout",
     "output_type": "stream",
     "text": [
      "hidden1.weight \t tensor([[-0.1862, -0.3241,  0.2772,  ...,  0.1355, -0.0927, -0.2117],\n",
      "        [-0.0830,  0.1971,  0.0014,  ...,  0.1118, -0.0682,  0.0435],\n",
      "        [-0.0202,  0.2260, -0.0802,  ...,  0.0595, -0.0174, -0.1205],\n",
      "        ...,\n",
      "        [-0.0858,  0.1877, -0.1632,  ...,  0.0471, -0.1354,  0.1666],\n",
      "        [-0.0585, -0.0408, -0.1576,  ...,  0.1105,  0.0941,  0.0408],\n",
      "        [-0.0393, -0.1489,  0.0027,  ...,  0.0176,  0.1282,  0.2490]])\n",
      "hidden1.bias \t tensor([-6.4569e-02,  5.3913e-02,  9.2571e-02,  9.5153e-02,  1.3842e-01,\n",
      "        -8.3031e-02,  4.6914e-02, -8.4343e-02,  4.5406e-02,  1.2749e-01,\n",
      "        -7.5518e-02, -6.0808e-02,  1.1038e-01, -3.0670e-02,  7.4413e-02,\n",
      "        -9.5518e-03, -7.5292e-02, -1.3557e-02,  1.4848e-01, -1.4145e-03,\n",
      "         1.4962e-02,  8.6102e-02,  9.3015e-03, -1.0959e-01, -6.7141e-02,\n",
      "        -2.9968e-02,  9.2026e-03, -3.8817e-03, -3.2131e-04, -9.9586e-02,\n",
      "        -9.8634e-02, -1.6032e-01,  3.7555e-02,  1.2043e-01,  1.5070e-01,\n",
      "        -8.6963e-02, -4.7043e-02, -9.1621e-02, -6.4575e-02, -2.7723e-02,\n",
      "         8.3352e-02,  1.1658e-01, -5.8459e-02, -3.7708e-02,  2.8302e-02,\n",
      "        -6.0605e-02,  1.3428e-02,  7.9363e-02,  4.2014e-02,  7.5786e-03,\n",
      "         1.8193e-01, -7.6001e-02, -4.0871e-02, -1.0361e-02, -1.9347e-02,\n",
      "         7.8315e-02, -6.0546e-03,  2.8538e-03,  1.1053e-01,  1.5032e-01,\n",
      "        -4.7598e-02,  5.8865e-02,  8.2104e-02,  4.4946e-02,  2.0403e-01,\n",
      "         5.0869e-02, -8.0916e-03, -5.5401e-02,  2.1769e-01,  6.9027e-02,\n",
      "         5.7831e-02,  1.0450e-01, -6.2005e-02, -1.7873e-02,  7.4087e-02,\n",
      "         3.2721e-02,  1.4723e-02,  1.5353e-02, -8.1079e-03,  1.8931e-01,\n",
      "         3.6357e-02,  1.9689e-02,  5.3731e-02, -8.6441e-02,  1.9776e-02,\n",
      "        -3.5179e-02,  3.2021e-02, -2.6109e-02,  6.6849e-04,  1.5401e-01,\n",
      "         6.2988e-02,  2.5006e-03,  4.4257e-02,  1.0462e-01,  1.3842e-01,\n",
      "         1.0913e-01,  9.3405e-02, -3.1653e-02,  1.5751e-01,  7.1387e-02,\n",
      "         5.4293e-02,  3.9267e-02,  8.1155e-02, -1.6337e-02, -3.0916e-02,\n",
      "        -2.8930e-02, -1.5484e-02,  1.0200e-01, -6.8097e-02, -1.1592e-02,\n",
      "        -3.7663e-02,  2.8441e-02,  1.6318e-01, -1.6977e-02,  7.3837e-02,\n",
      "         1.4691e-01, -1.1841e-01,  5.5250e-02,  1.2090e-01, -3.6879e-03,\n",
      "        -9.9038e-02,  4.4965e-02, -2.4833e-02,  1.4595e-01,  2.8882e-02,\n",
      "         2.3918e-03, -1.6261e-04, -1.6802e-02,  3.6828e-02,  8.3233e-02,\n",
      "        -1.8740e-02, -1.1314e-01,  1.9782e-01, -6.6749e-02, -1.0739e-01,\n",
      "        -9.0256e-02, -4.9908e-04,  3.0174e-02,  1.0904e-01,  3.6595e-02,\n",
      "         1.0533e-02,  1.4575e-01, -9.4658e-03,  1.1323e-01, -9.5825e-02,\n",
      "         6.0354e-02, -5.6911e-03,  9.8867e-02, -2.5804e-02, -5.6565e-02,\n",
      "         1.5523e-01,  1.5615e-01, -1.3122e-02, -9.8943e-02, -3.1651e-02,\n",
      "        -1.6204e-02,  5.6549e-03,  5.3169e-02,  4.8192e-02, -3.2368e-02,\n",
      "         2.3971e-01])\n",
      "hidden_last.weight \t tensor([[1.5375, 0.8716, 0.8414,  ..., 0.4488, 0.4579, 1.4718],\n",
      "        [0.3114, 1.2677, 1.5973,  ..., 1.3293, 1.1600, 1.2749],\n",
      "        [1.0084, 0.9921, 0.9753,  ..., 1.0123, 1.0214, 0.9580],\n",
      "        ...,\n",
      "        [1.0085, 0.9920, 0.9748,  ..., 1.0125, 1.0218, 0.9571],\n",
      "        [1.0077, 0.9927, 0.9770,  ..., 1.0114, 1.0198, 0.9609],\n",
      "        [1.0083, 0.9922, 0.9754,  ..., 1.0122, 1.0213, 0.9582]])\n",
      "hidden_last.bias \t tensor([ 6.0688e-01,  5.7196e-01, -3.0770e-02,  5.2718e-03, -1.0427e-01,\n",
      "        -2.2794e-02, -9.1391e-02, -9.2687e-02,  4.9006e-04, -2.3915e-02,\n",
      "        -8.1170e-02, -1.7450e-02, -8.1813e-02, -3.2362e-02,  6.4213e-03,\n",
      "        -2.9127e-02, -1.2894e-01, -4.0127e-03, -1.3106e-01, -3.7825e-02])\n"
     ]
    }
   ],
   "source": [
    "for var_name in model.state_dict():\n",
    "    print(var_name, \"\\t\", model.state_dict()[var_name])"
   ]
  },
  {
   "cell_type": "code",
   "execution_count": null,
   "id": "69f41039",
   "metadata": {},
   "outputs": [],
   "source": []
  }
 ],
 "metadata": {
  "kernelspec": {
   "display_name": "Python 3 (ipykernel)",
   "language": "python",
   "name": "python3"
  },
  "language_info": {
   "codemirror_mode": {
    "name": "ipython",
    "version": 3
   },
   "file_extension": ".py",
   "mimetype": "text/x-python",
   "name": "python",
   "nbconvert_exporter": "python",
   "pygments_lexer": "ipython3",
   "version": "3.10.6"
  }
 },
 "nbformat": 4,
 "nbformat_minor": 5
}
